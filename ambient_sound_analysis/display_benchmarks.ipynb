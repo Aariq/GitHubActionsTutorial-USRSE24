{
 "cells": [
  {
   "cell_type": "markdown",
   "id": "13bdddf3-f048-4bb2-801d-6a8473fa7d9d",
   "metadata": {},
   "source": [
    "# Latest Benchmarks"
   ]
  },
  {
   "cell_type": "code",
   "execution_count": 68,
   "id": "9b8f9eff-5009-4d4e-9e17-a9f14960c073",
   "metadata": {},
   "outputs": [],
   "source": [
    "import dask.dataframe as ddf"
   ]
  },
  {
   "cell_type": "code",
   "execution_count": 69,
   "id": "dad42a94-20aa-4976-8ab3-558dc11c67c7",
   "metadata": {},
   "outputs": [],
   "source": [
    "df = ddf.read_csv(\"csv/*.csv\", header=None, index_col=False)"
   ]
  },
  {
   "cell_type": "code",
   "execution_count": 70,
   "id": "ae56d8d7-aea5-4a09-971d-a05afcfad2ac",
   "metadata": {},
   "outputs": [],
   "source": [
    "df = df.compute().reset_index(drop=True)"
   ]
  },
  {
   "cell_type": "code",
   "execution_count": 71,
   "id": "f4354a33-83ca-4878-bb15-2ea116f32996",
   "metadata": {},
   "outputs": [],
   "source": [
    "df.columns = [\"# Ships\", \"username\", \"SHA\", \"title\"]"
   ]
  },
  {
   "cell_type": "code",
   "execution_count": 72,
   "id": "a22b796f-9a02-4d3c-a3b4-335270e0e347",
   "metadata": {},
   "outputs": [
    {
     "data": {
      "text/html": [
       "<div>\n",
       "<style scoped>\n",
       "    .dataframe tbody tr th:only-of-type {\n",
       "        vertical-align: middle;\n",
       "    }\n",
       "\n",
       "    .dataframe tbody tr th {\n",
       "        vertical-align: top;\n",
       "    }\n",
       "\n",
       "    .dataframe thead th {\n",
       "        text-align: right;\n",
       "    }\n",
       "</style>\n",
       "<table border=\"1\" class=\"dataframe\">\n",
       "  <thead>\n",
       "    <tr style=\"text-align: right;\">\n",
       "      <th></th>\n",
       "      <th># Ships</th>\n",
       "      <th>username</th>\n",
       "      <th>SHA</th>\n",
       "      <th>title</th>\n",
       "    </tr>\n",
       "  </thead>\n",
       "  <tbody>\n",
       "    <tr>\n",
       "      <th>0</th>\n",
       "      <td>1</td>\n",
       "      <td>valentina-s</td>\n",
       "      <td>1dbb9106cd9ff69b73a7171f938285650a97d0bb</td>\n",
       "      <td>$ {{github.event.pull_request.title}}</td>\n",
       "    </tr>\n",
       "    <tr>\n",
       "      <th>1</th>\n",
       "      <td>1</td>\n",
       "      <td>valentina-s</td>\n",
       "      <td>72b13caee35f09369b3d3c6b082e71bac68316c0</td>\n",
       "      <td>adding model benchmarking workflow</td>\n",
       "    </tr>\n",
       "  </tbody>\n",
       "</table>\n",
       "</div>"
      ],
      "text/plain": [
       "   # Ships       username                                        SHA  \\\n",
       "0        1    valentina-s   1dbb9106cd9ff69b73a7171f938285650a97d0bb   \n",
       "1        1    valentina-s   72b13caee35f09369b3d3c6b082e71bac68316c0   \n",
       "\n",
       "                                    title  \n",
       "0   $ {{github.event.pull_request.title}}  \n",
       "1      adding model benchmarking workflow  "
      ]
     },
     "execution_count": 72,
     "metadata": {},
     "output_type": "execute_result"
    }
   ],
   "source": [
    "df"
   ]
  }
 ],
 "metadata": {
  "kernelspec": {
   "display_name": "Python 3 (ipykernel)",
   "language": "python",
   "name": "python3"
  },
  "language_info": {
   "codemirror_mode": {
    "name": "ipython",
    "version": 3
   },
   "file_extension": ".py",
   "mimetype": "text/x-python",
   "name": "python",
   "nbconvert_exporter": "python",
   "pygments_lexer": "ipython3",
   "version": "3.9.18"
  }
 },
 "nbformat": 4,
 "nbformat_minor": 5
}
